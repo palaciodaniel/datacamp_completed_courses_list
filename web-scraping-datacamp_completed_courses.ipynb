{
 "cells": [
  {
   "cell_type": "markdown",
   "metadata": {},
   "source": [
    "# My Datacamp Completed Courses List\n",
    "\n",
    "By **Daniel Palacio** (github.com/palaciodaniel) - August 2020."
   ]
  },
  {
   "cell_type": "markdown",
   "metadata": {},
   "source": [
    "### 0. Introduction\n",
    "\n",
    "Before starting, I want to mention that in my personal case (Linux Mint) there was a problem installing \n",
    "the *scrapy* library. I was getting the error *'command 'gcc' failed with exit status 1'*. \n",
    "\n",
    "It was fixed when I installed the library 'libxml2-dev' on my OS. For reference, I found the solution on the following [StackOverflow page](https://stackoverflow.com/questions/10927492/getting-gcc-failed-error-while-installing-scrapy)."
   ]
  },
  {
   "cell_type": "code",
   "execution_count": null,
   "metadata": {},
   "outputs": [],
   "source": [
    "# As mentioned, the 'scrapy' module is required to execute this program.\n",
    "# If you don't have it installed, erase the '#' sign on the following line...\n",
    "\n",
    "# !pip install scrapy"
   ]
  },
  {
   "cell_type": "markdown",
   "metadata": {},
   "source": [
    "### 1. Creating (and executing) a Spider for Web Scraping\n",
    "\n",
    "Once this is finished, a file \"lista_cursos_completados.py\" will be created, with all the Datacamp courses I finished so far."
   ]
  },
  {
   "cell_type": "code",
   "execution_count": null,
   "metadata": {},
   "outputs": [],
   "source": [
    "import scrapy\n",
    "from scrapy.crawler import CrawlerProcess\n",
    "\n",
    "# Extracting courses' titles from my Datacamp's profile\n",
    "\n",
    "class DatacampProfileSpider(scrapy.Spider):\n",
    "    \n",
    "    name = \"daniel_palacio\"\n",
    "    \n",
    "    def start_requests(self):\n",
    "        \n",
    "        url = \"https://www.datacamp.com/profile/danielpalacio\"\n",
    "        \n",
    "        yield scrapy.Request(url = url, callback = self.extraction)\n",
    "    \n",
    "    def extraction(self, response):\n",
    "        \n",
    "        course_list = response.xpath(\"//*[contains(@class, 'course-block__title')]//text()\").extract()\n",
    "        \n",
    "        pyfile = \"lista_cursos_completados.py\"\n",
    "        \n",
    "        with open(pyfile, \"w\") as f:\n",
    "            f.writelines([course + \",\" for course in course_list])\n",
    "\n",
    "# Initializing Spider.            \n",
    "\n",
    "process = CrawlerProcess()\n",
    "\n",
    "process.crawl(DatacampProfileSpider)\n",
    "\n",
    "process.start()"
   ]
  },
  {
   "cell_type": "markdown",
   "metadata": {},
   "source": [
    "### 2. Cleaning the downloaded list\n",
    "\n",
    "The information on 'lista_cursos_completados.py' is disorganized. It needs to be cleaned. \n",
    "\n",
    "However, first we need to force the Notebook to show the results without scrollable frames."
   ]
  },
  {
   "cell_type": "code",
   "execution_count": 1,
   "metadata": {},
   "outputs": [
    {
     "data": {
      "application/javascript": [
       "IPython.OutputArea.prototype._should_scroll = function(lines) {\n",
       "    return false;\n",
       "}\n"
      ],
      "text/plain": [
       "<IPython.core.display.Javascript object>"
      ]
     },
     "metadata": {},
     "output_type": "display_data"
    }
   ],
   "source": [
    "%%javascript\n",
    "IPython.OutputArea.prototype._should_scroll = function(lines) {\n",
    "    return false;\n",
    "}"
   ]
  },
  {
   "cell_type": "code",
   "execution_count": 2,
   "metadata": {},
   "outputs": [
    {
     "name": "stdout",
     "output_type": "stream",
     "text": [
      "\n",
      "AI Fundamentals\n",
      "Advanced Deep Learning with Keras\n",
      "Analyzing Police Activity with pandas\n",
      "Big Data Fundamentals with PySpark\n",
      "Building and Distributing Packages with Conda\n",
      "Building and Optimizing Triggers in SQL Server\n",
      "Case Study: School Budgeting with Machine Learn...\n",
      "Cleaning Data in Python\n",
      "Cleaning Data in Python\n",
      "Cloud Computing for Everyone\n",
      "Cluster Analysis in Python\n",
      "Command Line Automation in Python\n",
      "Conda Essentials\n",
      "Creating Robust Workflows in Python\n",
      "Data Analysis in Spreadsheets\n",
      "Data Engineering for Everyone\n",
      "Data Manipulation with pandas\n",
      "Data Processing in Shell\n",
      "Data Science for Business\n",
      "Data Science for Everyone\n",
      "Data Types for Data Science in Python\n",
      "Data Visualization for Everyone\n",
      "Database Design\n",
      "Dealing with Missing Data in Python\n",
      "Dimensionality Reduction in Python\n",
      "Exploratory Data Analysis in Python\n",
      "Exploratory Data Analysis in SQL\n",
      "Extreme Gradient Boosting with XGBoost\n",
      "Feature Engineering for Machine Learning in Python\n",
      "Feature Engineering for NLP in Python\n",
      "Functions for Manipulating Data in SQL Server\n",
      "Hierarchical and Recursive Queries in SQL Server\n",
      "Hyperparameter Tuning in Python\n",
      "Image Processing in Python\n",
      "Image Processing with Keras in Python\n",
      "Improving Query Performance in SQL Server\n",
      "Interactive Data Visualization with Bokeh\n",
      "Intermediate Data Visualization with Seaborn\n",
      "Intermediate Importing Data in Python\n",
      "Intermediate Python\n",
      "Intermediate SQL\n",
      "Intermediate SQL Server\n",
      "Introduction to AWS Boto in Python\n",
      "Introduction to Airflow in Python\n",
      "Introduction to Bash Scripting\n",
      "Introduction to Data Engineering\n",
      "Introduction to Data Science in Python\n",
      "Introduction to Data Visualization in Python\n",
      "Introduction to Data Visualization with Matplotlib\n",
      "Introduction to Data Visualization with Seaborn\n",
      "Introduction to Databases in Python\n",
      "Introduction to Deep Learning in Python\n",
      "Introduction to Deep Learning with Keras\n",
      "Introduction to Git\n",
      "Introduction to Importing Data in Python\n",
      "Introduction to MongoDB in Python\n",
      "Introduction to Natural Language Processing in ...\n",
      "Introduction to Network Analysis in Python\n",
      "Introduction to Power BI\n",
      "Introduction to PySpark\n",
      "Introduction to R\n",
      "Introduction to Relational Databases in SQL\n",
      "Introduction to SQL\n",
      "Introduction to SQL Server\n",
      "Introduction to Scala\n",
      "Introduction to Shell\n",
      "Introduction to Spark SQL in Python\n",
      "Introduction to Statistics in Spreadsheets\n",
      "Introduction to Tableau\n",
      "Introduction to TensorFlow in Python\n",
      "Introduction to the Tidyverse\n",
      "Joining Data in SQL\n",
      "Joining Data with pandas\n",
      "Linear Classifiers in Python\n",
      "Machine Learning for Business\n",
      "Machine Learning for Everyone\n",
      "Machine Learning for Time Series Data in Python\n",
      "Machine Learning with PySpark\n",
      "Machine Learning with Tree-Based Models in Python\n",
      "Manipulating DataFrames with pandas\n",
      "Merging DataFrames with pandas\n",
      "Model Validation in Python\n",
      "Object-Oriented Programming in Python\n",
      "Pandas Foundations\n",
      "Parallel Programming with Dask in Python\n",
      "Preprocessing for Machine Learning in Python\n",
      "Python Data Science Toolbox (Part 1)\n",
      "Python Data Science Toolbox (Part 2)\n",
      "Regular Expressions in Python\n",
      "Software Engineering for Data Scientists in Python\n",
      "Statistical Thinking in Python (Part 1)\n",
      "Statistical Thinking in Python (Part 2)\n",
      "Streamlined Data Ingestion with pandas\n",
      "Supervised Learning with scikit-learn\n",
      "Time Series Analysis in SQL Server\n",
      "Transactions and Error Handling in SQL Server\n",
      "Unit Testing for Data Science in Python\n",
      "Unsupervised Learning in Python\n",
      "Visualizing Geospatial Data in Python\n",
      "Web Scraping in Python\n",
      "Winning a Kaggle Competition in Python\n",
      "Working with Dates and Times in Python\n",
      "Working with the Class System in Python\n",
      "Writing Efficient Code with pandas\n",
      "Writing Efficient Python Code\n",
      "Writing Functions and Stored Procedures in SQL ...\n",
      "Writing Functions in Python\n"
     ]
    }
   ],
   "source": [
    "from pathlib import Path\n",
    "\n",
    "# 1. Adding the downloaded list of courses to a variable.\n",
    "\n",
    "complete_course_list = Path(\"lista_cursos_completados.py\").read_text()\n",
    "\n",
    "# 2. It's required that we transform the list to a \"str\" type variable.\n",
    "\n",
    "complete_course_list = \"\".join(complete_course_list)\n",
    "\n",
    "# 3. The 'split' method re-creates a list using commas to define every new list element.\n",
    "\n",
    "complete_course_list = complete_course_list.split(\",\")\n",
    "\n",
    "# 4. There are two problematic entries that need to be addressed:\n",
    "\n",
    "#   a) The first element of the list is empty, so we'll erase it.\n",
    "\n",
    "complete_course_list = complete_course_list[1:]\n",
    "\n",
    "#   b) There is a lowercase element (\"pandas Foundations\"). \n",
    "#      We need to make it uppercase, otherwise when we sort the list it will\n",
    "#      be put at the very end.\n",
    "\n",
    "for index, course in enumerate(complete_course_list):\n",
    "    if course == \"pandas Foundations\":\n",
    "        complete_course_list[index] = \"Pandas Foundations\"\n",
    "\n",
    "# 5. Having cleaned everything, then finally we can sort the list alphabetically.\n",
    "\n",
    "sorted_course_list = sorted(complete_course_list)\n",
    "\n",
    "# 6. Printing ordered list\n",
    "\n",
    "print(*sorted_course_list, sep = \"\\n\")\n"
   ]
  }
 ],
 "metadata": {
  "kernelspec": {
   "display_name": "Python 3",
   "language": "python",
   "name": "python3"
  },
  "language_info": {
   "codemirror_mode": {
    "name": "ipython",
    "version": 3
   },
   "file_extension": ".py",
   "mimetype": "text/x-python",
   "name": "python",
   "nbconvert_exporter": "python",
   "pygments_lexer": "ipython3",
   "version": "3.8.3"
  }
 },
 "nbformat": 4,
 "nbformat_minor": 2
}
